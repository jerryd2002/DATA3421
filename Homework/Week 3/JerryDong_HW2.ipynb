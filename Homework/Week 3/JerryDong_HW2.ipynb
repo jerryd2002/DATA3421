{
 "cells": [
  {
   "cell_type": "markdown",
   "id": "ef69fc60",
   "metadata": {},
   "source": [
    "# 1) Data Understanding and Summary:\n"
   ]
  },
  {
   "cell_type": "code",
   "execution_count": 1,
   "id": "a065e46a",
   "metadata": {},
   "outputs": [],
   "source": [
    "#Libaries \n",
    "\n",
    "import numpy as np\n",
    "import pandas as pd\n",
    "import matplotlib.pyplot as plt\n",
    "import seaborn as sns"
   ]
  },
  {
   "cell_type": "code",
   "execution_count": 104,
   "id": "d09765b0",
   "metadata": {},
   "outputs": [
    {
     "data": {
      "text/plain": [
       "Index(['id', 'building_class', 'floor_area', 'year_built',\n",
       "       'precipitation_inches', 'snowfall_inches', 'avg_temp', 'days_with_fog',\n",
       "       'site_eui'],\n",
       "      dtype='object')"
      ]
     },
     "execution_count": 104,
     "metadata": {},
     "output_type": "execute_result"
    }
   ],
   "source": [
    "df = pd.read_csv('ClimateData (1).csv')\n",
    "df.columns"
   ]
  },
  {
   "cell_type": "code",
   "execution_count": 105,
   "id": "a98941e8",
   "metadata": {},
   "outputs": [
    {
     "data": {
      "text/html": [
       "<div>\n",
       "<style scoped>\n",
       "    .dataframe tbody tr th:only-of-type {\n",
       "        vertical-align: middle;\n",
       "    }\n",
       "\n",
       "    .dataframe tbody tr th {\n",
       "        vertical-align: top;\n",
       "    }\n",
       "\n",
       "    .dataframe thead th {\n",
       "        text-align: right;\n",
       "    }\n",
       "</style>\n",
       "<table border=\"1\" class=\"dataframe\">\n",
       "  <thead>\n",
       "    <tr style=\"text-align: right;\">\n",
       "      <th></th>\n",
       "      <th>id</th>\n",
       "      <th>floor_area</th>\n",
       "      <th>year_built</th>\n",
       "      <th>precipitation_inches</th>\n",
       "      <th>snowfall_inches</th>\n",
       "      <th>avg_temp</th>\n",
       "      <th>days_with_fog</th>\n",
       "      <th>site_eui</th>\n",
       "    </tr>\n",
       "  </thead>\n",
       "  <tbody>\n",
       "    <tr>\n",
       "      <th>count</th>\n",
       "      <td>75757.000000</td>\n",
       "      <td>7.575700e+04</td>\n",
       "      <td>73920.000000</td>\n",
       "      <td>75757.000000</td>\n",
       "      <td>75757.000000</td>\n",
       "      <td>75757.000000</td>\n",
       "      <td>29961.000000</td>\n",
       "      <td>75757.000000</td>\n",
       "    </tr>\n",
       "    <tr>\n",
       "      <th>mean</th>\n",
       "      <td>37878.000000</td>\n",
       "      <td>1.659839e+05</td>\n",
       "      <td>1952.306764</td>\n",
       "      <td>42.430651</td>\n",
       "      <td>29.136379</td>\n",
       "      <td>56.176705</td>\n",
       "      <td>109.142051</td>\n",
       "      <td>82.584707</td>\n",
       "    </tr>\n",
       "    <tr>\n",
       "      <th>std</th>\n",
       "      <td>21869.306509</td>\n",
       "      <td>2.468758e+05</td>\n",
       "      <td>37.053619</td>\n",
       "      <td>10.592205</td>\n",
       "      <td>17.810894</td>\n",
       "      <td>2.241940</td>\n",
       "      <td>50.699751</td>\n",
       "      <td>58.255413</td>\n",
       "    </tr>\n",
       "    <tr>\n",
       "      <th>min</th>\n",
       "      <td>0.000000</td>\n",
       "      <td>9.430000e+02</td>\n",
       "      <td>0.000000</td>\n",
       "      <td>0.000000</td>\n",
       "      <td>0.000000</td>\n",
       "      <td>44.512329</td>\n",
       "      <td>12.000000</td>\n",
       "      <td>1.000000</td>\n",
       "    </tr>\n",
       "    <tr>\n",
       "      <th>25%</th>\n",
       "      <td>18939.000000</td>\n",
       "      <td>6.237900e+04</td>\n",
       "      <td>1927.000000</td>\n",
       "      <td>39.350000</td>\n",
       "      <td>9.600000</td>\n",
       "      <td>55.147541</td>\n",
       "      <td>88.000000</td>\n",
       "      <td>54.530000</td>\n",
       "    </tr>\n",
       "    <tr>\n",
       "      <th>50%</th>\n",
       "      <td>37878.000000</td>\n",
       "      <td>9.136700e+04</td>\n",
       "      <td>1951.000000</td>\n",
       "      <td>42.170000</td>\n",
       "      <td>31.600000</td>\n",
       "      <td>56.835616</td>\n",
       "      <td>104.000000</td>\n",
       "      <td>75.290000</td>\n",
       "    </tr>\n",
       "    <tr>\n",
       "      <th>75%</th>\n",
       "      <td>56817.000000</td>\n",
       "      <td>1.660000e+05</td>\n",
       "      <td>1977.000000</td>\n",
       "      <td>46.320000</td>\n",
       "      <td>49.100000</td>\n",
       "      <td>57.215847</td>\n",
       "      <td>131.000000</td>\n",
       "      <td>97.280000</td>\n",
       "    </tr>\n",
       "    <tr>\n",
       "      <th>max</th>\n",
       "      <td>75756.000000</td>\n",
       "      <td>6.385382e+06</td>\n",
       "      <td>2015.000000</td>\n",
       "      <td>107.690000</td>\n",
       "      <td>127.300000</td>\n",
       "      <td>77.245205</td>\n",
       "      <td>311.000000</td>\n",
       "      <td>997.870000</td>\n",
       "    </tr>\n",
       "  </tbody>\n",
       "</table>\n",
       "</div>"
      ],
      "text/plain": [
       "                 id    floor_area    year_built  precipitation_inches  \\\n",
       "count  75757.000000  7.575700e+04  73920.000000          75757.000000   \n",
       "mean   37878.000000  1.659839e+05   1952.306764             42.430651   \n",
       "std    21869.306509  2.468758e+05     37.053619             10.592205   \n",
       "min        0.000000  9.430000e+02      0.000000              0.000000   \n",
       "25%    18939.000000  6.237900e+04   1927.000000             39.350000   \n",
       "50%    37878.000000  9.136700e+04   1951.000000             42.170000   \n",
       "75%    56817.000000  1.660000e+05   1977.000000             46.320000   \n",
       "max    75756.000000  6.385382e+06   2015.000000            107.690000   \n",
       "\n",
       "       snowfall_inches      avg_temp  days_with_fog      site_eui  \n",
       "count     75757.000000  75757.000000   29961.000000  75757.000000  \n",
       "mean         29.136379     56.176705     109.142051     82.584707  \n",
       "std          17.810894      2.241940      50.699751     58.255413  \n",
       "min           0.000000     44.512329      12.000000      1.000000  \n",
       "25%           9.600000     55.147541      88.000000     54.530000  \n",
       "50%          31.600000     56.835616     104.000000     75.290000  \n",
       "75%          49.100000     57.215847     131.000000     97.280000  \n",
       "max         127.300000     77.245205     311.000000    997.870000  "
      ]
     },
     "execution_count": 105,
     "metadata": {},
     "output_type": "execute_result"
    }
   ],
   "source": [
    "df.describe()"
   ]
  },
  {
   "cell_type": "code",
   "execution_count": 13,
   "id": "2b14989e",
   "metadata": {},
   "outputs": [
    {
     "name": "stdout",
     "output_type": "stream",
     "text": [
      "Dataset size: (75757, 9)\n"
     ]
    }
   ],
   "source": [
    "print(\"Dataset size:\",df.shape)"
   ]
  },
  {
   "cell_type": "code",
   "execution_count": 9,
   "id": "9121e3b2",
   "metadata": {},
   "outputs": [
    {
     "name": "stdout",
     "output_type": "stream",
     "text": [
      "<class 'pandas.core.frame.DataFrame'>\n",
      "RangeIndex: 75757 entries, 0 to 75756\n",
      "Data columns (total 9 columns):\n",
      " #   Column                Non-Null Count  Dtype  \n",
      "---  ------                --------------  -----  \n",
      " 0   id                    75757 non-null  int64  \n",
      " 1   building_class        75757 non-null  object \n",
      " 2   floor_area            75757 non-null  float64\n",
      " 3   year_built            73920 non-null  float64\n",
      " 4   precipitation_inches  75757 non-null  float64\n",
      " 5   snowfall_inches       75757 non-null  float64\n",
      " 6   avg_temp              75757 non-null  float64\n",
      " 7   days_with_fog         29961 non-null  float64\n",
      " 8   site_eui              75757 non-null  float64\n",
      "dtypes: float64(7), int64(1), object(1)\n",
      "memory usage: 5.2+ MB\n"
     ]
    },
    {
     "data": {
      "text/plain": [
       "(None,\n",
       "    id building_class  floor_area  year_built  precipitation_inches  \\\n",
       " 0   0     Commercial     61242.0      1942.0                 16.59   \n",
       " 1   1     Commercial    274000.0      1955.0                 16.59   \n",
       " 2   2     Commercial    280025.0      1951.0                 16.59   \n",
       " 3   3     Commercial     55325.0      1980.0                 16.59   \n",
       " 4   4     Commercial     66000.0      1985.0                 16.59   \n",
       " \n",
       "    snowfall_inches   avg_temp  days_with_fog  site_eui  \n",
       " 0              0.0  56.972603            NaN    248.68  \n",
       " 1              0.0  56.972603           12.0     26.50  \n",
       " 2              0.0  56.972603           12.0     24.69  \n",
       " 3              0.0  56.972603           12.0     48.41  \n",
       " 4              0.0  56.972603            NaN      3.90  )"
      ]
     },
     "execution_count": 9,
     "metadata": {},
     "output_type": "execute_result"
    }
   ],
   "source": [
    "df_info = df.info()\n",
    "df_head = df.head()\n",
    "\n",
    "df_info,df_head"
   ]
  },
  {
   "cell_type": "markdown",
   "id": "ab05c90f",
   "metadata": {},
   "source": [
    " The datatset consists of 75757 entries and 9 columns, containing int, float, and object types\n",
    "\n",
    "id:                    75757,  non-null,   int64 \n",
    "building_class:        75757,  non-null,  object \n",
    "floor_area:            75757,  non-null,  float64\n",
    "year_built:            73920,  non-null,  float64\n",
    "precipitation_inches:  75757,  non-null,   float64\n",
    "snowfall_inches:       75757,  non-null,   float64\n",
    "avg_temp:             75757,  non-null,   float64\n",
    "days_with_fog:         29961,  non-null,   float64\n",
    "site_eui:             75757,  non-null,  float64\n",
    " "
   ]
  },
  {
   "cell_type": "markdown",
   "id": "779a6d6f",
   "metadata": {},
   "source": [
    "# 2) Unique Value Analysis"
   ]
  },
  {
   "cell_type": "code",
   "execution_count": 18,
   "id": "47fd3bb6",
   "metadata": {},
   "outputs": [
    {
     "name": "stdout",
     "output_type": "stream",
     "text": [
      "Number of unique values in 'building_class' column: 2 \n",
      "Unique values identifiers: ['Commercial' 'Residential']\n"
     ]
    }
   ],
   "source": [
    "unique_values = df['building_class'].unique()\n",
    "unique_values_count = df['building_class'].nunique()\n",
    "\n",
    "print(\"Number of unique values in 'building_class' column:\", unique_values_count, '\\nUnique values identifiers:',unique_values)\n"
   ]
  },
  {
   "cell_type": "markdown",
   "id": "92d3692d",
   "metadata": {},
   "source": [
    "# 3) Descriptive Statistics"
   ]
  },
  {
   "cell_type": "code",
   "execution_count": 19,
   "id": "c136ecee",
   "metadata": {},
   "outputs": [
    {
     "data": {
      "text/html": [
       "<div>\n",
       "<style scoped>\n",
       "    .dataframe tbody tr th:only-of-type {\n",
       "        vertical-align: middle;\n",
       "    }\n",
       "\n",
       "    .dataframe tbody tr th {\n",
       "        vertical-align: top;\n",
       "    }\n",
       "\n",
       "    .dataframe thead th {\n",
       "        text-align: right;\n",
       "    }\n",
       "</style>\n",
       "<table border=\"1\" class=\"dataframe\">\n",
       "  <thead>\n",
       "    <tr style=\"text-align: right;\">\n",
       "      <th></th>\n",
       "      <th>id</th>\n",
       "      <th>floor_area</th>\n",
       "      <th>year_built</th>\n",
       "      <th>precipitation_inches</th>\n",
       "      <th>snowfall_inches</th>\n",
       "      <th>avg_temp</th>\n",
       "      <th>days_with_fog</th>\n",
       "      <th>site_eui</th>\n",
       "    </tr>\n",
       "  </thead>\n",
       "  <tbody>\n",
       "    <tr>\n",
       "      <th>count</th>\n",
       "      <td>75757.000000</td>\n",
       "      <td>7.575700e+04</td>\n",
       "      <td>73920.000000</td>\n",
       "      <td>75757.000000</td>\n",
       "      <td>75757.000000</td>\n",
       "      <td>75757.000000</td>\n",
       "      <td>29961.000000</td>\n",
       "      <td>75757.000000</td>\n",
       "    </tr>\n",
       "    <tr>\n",
       "      <th>mean</th>\n",
       "      <td>37878.000000</td>\n",
       "      <td>1.659839e+05</td>\n",
       "      <td>1952.306764</td>\n",
       "      <td>42.430651</td>\n",
       "      <td>29.136379</td>\n",
       "      <td>56.176705</td>\n",
       "      <td>109.142051</td>\n",
       "      <td>82.584707</td>\n",
       "    </tr>\n",
       "    <tr>\n",
       "      <th>std</th>\n",
       "      <td>21869.306509</td>\n",
       "      <td>2.468758e+05</td>\n",
       "      <td>37.053619</td>\n",
       "      <td>10.592205</td>\n",
       "      <td>17.810894</td>\n",
       "      <td>2.241940</td>\n",
       "      <td>50.699751</td>\n",
       "      <td>58.255413</td>\n",
       "    </tr>\n",
       "    <tr>\n",
       "      <th>min</th>\n",
       "      <td>0.000000</td>\n",
       "      <td>9.430000e+02</td>\n",
       "      <td>0.000000</td>\n",
       "      <td>0.000000</td>\n",
       "      <td>0.000000</td>\n",
       "      <td>44.512329</td>\n",
       "      <td>12.000000</td>\n",
       "      <td>1.000000</td>\n",
       "    </tr>\n",
       "    <tr>\n",
       "      <th>25%</th>\n",
       "      <td>18939.000000</td>\n",
       "      <td>6.237900e+04</td>\n",
       "      <td>1927.000000</td>\n",
       "      <td>39.350000</td>\n",
       "      <td>9.600000</td>\n",
       "      <td>55.147541</td>\n",
       "      <td>88.000000</td>\n",
       "      <td>54.530000</td>\n",
       "    </tr>\n",
       "    <tr>\n",
       "      <th>50%</th>\n",
       "      <td>37878.000000</td>\n",
       "      <td>9.136700e+04</td>\n",
       "      <td>1951.000000</td>\n",
       "      <td>42.170000</td>\n",
       "      <td>31.600000</td>\n",
       "      <td>56.835616</td>\n",
       "      <td>104.000000</td>\n",
       "      <td>75.290000</td>\n",
       "    </tr>\n",
       "    <tr>\n",
       "      <th>75%</th>\n",
       "      <td>56817.000000</td>\n",
       "      <td>1.660000e+05</td>\n",
       "      <td>1977.000000</td>\n",
       "      <td>46.320000</td>\n",
       "      <td>49.100000</td>\n",
       "      <td>57.215847</td>\n",
       "      <td>131.000000</td>\n",
       "      <td>97.280000</td>\n",
       "    </tr>\n",
       "    <tr>\n",
       "      <th>max</th>\n",
       "      <td>75756.000000</td>\n",
       "      <td>6.385382e+06</td>\n",
       "      <td>2015.000000</td>\n",
       "      <td>107.690000</td>\n",
       "      <td>127.300000</td>\n",
       "      <td>77.245205</td>\n",
       "      <td>311.000000</td>\n",
       "      <td>997.870000</td>\n",
       "    </tr>\n",
       "  </tbody>\n",
       "</table>\n",
       "</div>"
      ],
      "text/plain": [
       "                 id    floor_area    year_built  precipitation_inches  \\\n",
       "count  75757.000000  7.575700e+04  73920.000000          75757.000000   \n",
       "mean   37878.000000  1.659839e+05   1952.306764             42.430651   \n",
       "std    21869.306509  2.468758e+05     37.053619             10.592205   \n",
       "min        0.000000  9.430000e+02      0.000000              0.000000   \n",
       "25%    18939.000000  6.237900e+04   1927.000000             39.350000   \n",
       "50%    37878.000000  9.136700e+04   1951.000000             42.170000   \n",
       "75%    56817.000000  1.660000e+05   1977.000000             46.320000   \n",
       "max    75756.000000  6.385382e+06   2015.000000            107.690000   \n",
       "\n",
       "       snowfall_inches      avg_temp  days_with_fog      site_eui  \n",
       "count     75757.000000  75757.000000   29961.000000  75757.000000  \n",
       "mean         29.136379     56.176705     109.142051     82.584707  \n",
       "std          17.810894      2.241940      50.699751     58.255413  \n",
       "min           0.000000     44.512329      12.000000      1.000000  \n",
       "25%           9.600000     55.147541      88.000000     54.530000  \n",
       "50%          31.600000     56.835616     104.000000     75.290000  \n",
       "75%          49.100000     57.215847     131.000000     97.280000  \n",
       "max         127.300000     77.245205     311.000000    997.870000  "
      ]
     },
     "execution_count": 19,
     "metadata": {},
     "output_type": "execute_result"
    }
   ],
   "source": [
    "df.describe()"
   ]
  },
  {
   "cell_type": "code",
   "execution_count": 25,
   "id": "5d1746e9",
   "metadata": {},
   "outputs": [
    {
     "data": {
      "image/png": "[encoded data removed]",
      "text/plain": [
       "<Figure size 432x288 with 1 Axes>"
      ]
     },
     "metadata": {
      "needs_background": "light"
     },
     "output_type": "display_data"
    },
    {
     "data": {
      "image/png": "[encoded data removed]",
      "text/plain": [
       "<Figure size 432x288 with 1 Axes>"
      ]
     },
     "metadata": {
      "needs_background": "light"
     },
     "output_type": "display_data"
    },
    {
     "data": {
      "image/png": "[encoded data removed]",
      "text/plain": [
       "<Figure size 432x288 with 1 Axes>"
      ]
     },
     "metadata": {
      "needs_background": "light"
     },
     "output_type": "display_data"
    },
    {
     "data": {
      "image/png": "[encoded data removed]",
      "text/plain": [
       "<Figure size 432x288 with 1 Axes>"
      ]
     },
     "metadata": {
      "needs_background": "light"
     },
     "output_type": "display_data"
    },
    {
     "data": {
      "image/png": "[encoded data removed]",
      "text/plain": [
       "<Figure size 432x288 with 1 Axes>"
      ]
     },
     "metadata": {
      "needs_background": "light"
     },
     "output_type": "display_data"
    },
    {
     "data": {
      "image/png": "[encoded data removed]",
      "text/plain": [
       "<Figure size 432x288 with 1 Axes>"
      ]
     },
     "metadata": {
      "needs_background": "light"
     },
     "output_type": "display_data"
    },
    {
     "data": {
      "image/png": "[encoded data removed]",
      "text/plain": [
       "<Figure size 432x288 with 1 Axes>"
      ]
     },
     "metadata": {
      "needs_background": "light"
     },
     "output_type": "display_data"
    },
    {
     "data": {
      "image/png": "[encoded data removed]",
      "text/plain": [
       "<Figure size 432x288 with 1 Axes>"
      ]
     },
     "metadata": {
      "needs_background": "light"
     },
     "output_type": "display_data"
    },
    {
     "data": {
      "image/png": "[encoded data removed]",
      "text/plain": [
       "<Figure size 432x288 with 1 Axes>"
      ]
     },
     "metadata": {
      "needs_background": "light"
     },
     "output_type": "display_data"
    },
    {
     "data": {
      "image/png": "[encoded data removed]",
      "text/plain": [
       "<Figure size 432x288 with 1 Axes>"
      ]
     },
     "metadata": {
      "needs_background": "light"
     },
     "output_type": "display_data"
    },
    {
     "data": {
      "image/png": "[encoded data removed]",
      "text/plain": [
       "<Figure size 432x288 with 1 Axes>"
      ]
     },
     "metadata": {
      "needs_background": "light"
     },
     "output_type": "display_data"
    },
    {
     "data": {
      "image/png": "[encoded data removed]",
      "text/plain": [
       "<Figure size 432x288 with 1 Axes>"
      ]
     },
     "metadata": {
      "needs_background": "light"
     },
     "output_type": "display_data"
    },
    {
     "data": {
      "image/png": "[encoded data removed]",
      "text/plain": [
       "<Figure size 432x288 with 1 Axes>"
      ]
     },
     "metadata": {
      "needs_background": "light"
     },
     "output_type": "display_data"
    },
    {
     "data": {
      "image/png": "[encoded data removed]",
      "text/plain": [
       "<Figure size 432x288 with 1 Axes>"
      ]
     },
     "metadata": {
      "needs_background": "light"
     },
     "output_type": "display_data"
    }
   ],
   "source": [
    "numerical_cols = df.select_dtypes(include=['number']).columns.drop('id')\n",
    "\n",
    "for col in numerical_cols:\n",
    "    sns.histplot(df[col], kde=True)\n",
    "    plt.title(f'Histogram of {col}')\n",
    "    plt.show()\n",
    "\n",
    "for col in numerical_cols:\n",
    "    sns.boxplot(x=df[col])\n",
    "    plt.title(f'Boxplot of {col}')\n",
    "    plt.show()"
   ]
  },
  {
   "cell_type": "markdown",
   "id": "20a7df6c",
   "metadata": {},
   "source": [
    "Given that we have the mean of each variable and the quartile ranges, using the boxplot, it becomes more visable within each variable the potential outliers in all of the variables being measured. In this case 'floor area', 'year-built','precipitation_inches', 'snowfall_inches', 'avg_temp', 'days_with_fog', 'site_eui'.\n",
    "\n",
    "Though there appears to be potential outliers, if the dataset within the histograms were zoomed in fully, it can be inferred that majority of the dataset is relatively normal in central tendency, however, the outliers does affect the dispersion/central tendency either skewing the data set in one way or another."
   ]
  },
  {
   "cell_type": "markdown",
   "id": "7683af80",
   "metadata": {},
   "source": [
    "# 4) Missing Values Assessment"
   ]
  },
  {
   "cell_type": "code",
   "execution_count": 26,
   "id": "67916a46",
   "metadata": {},
   "outputs": [
    {
     "name": "stdout",
     "output_type": "stream",
     "text": [
      "id                          0\n",
      "building_class              0\n",
      "floor_area                  0\n",
      "year_built               1837\n",
      "precipitation_inches        0\n",
      "snowfall_inches             0\n",
      "avg_temp                    0\n",
      "days_with_fog           45796\n",
      "site_eui                    0\n",
      "dtype: int64\n"
     ]
    }
   ],
   "source": [
    "Missing_Values = pd.DataFrame.isnull(df)\n",
    "print(pd.DataFrame.sum(Missing_Values))\n"
   ]
  },
  {
   "cell_type": "markdown",
   "id": "69b515bd",
   "metadata": {},
   "source": [
    "The missing values affect the overall stastical power of the analysis as 2 of the variables have missing variables which can affect the precision of the dataset, loss of information, leads to bias, increases data complexity when imputating data, and overall can affect a model negatively if the data is being used as training. "
   ]
  },
  {
   "cell_type": "markdown",
   "id": "3314b654",
   "metadata": {},
   "source": [
    "# 5) Missing Data Handling"
   ]
  },
  {
   "cell_type": "code",
   "execution_count": 28,
   "id": "1e11cc66",
   "metadata": {},
   "outputs": [
    {
     "data": {
      "text/html": [
       "<div>\n",
       "<style scoped>\n",
       "    .dataframe tbody tr th:only-of-type {\n",
       "        vertical-align: middle;\n",
       "    }\n",
       "\n",
       "    .dataframe tbody tr th {\n",
       "        vertical-align: top;\n",
       "    }\n",
       "\n",
       "    .dataframe thead th {\n",
       "        text-align: right;\n",
       "    }\n",
       "</style>\n",
       "<table border=\"1\" class=\"dataframe\">\n",
       "  <thead>\n",
       "    <tr style=\"text-align: right;\">\n",
       "      <th></th>\n",
       "      <th>id</th>\n",
       "      <th>floor_area</th>\n",
       "      <th>year_built</th>\n",
       "      <th>precipitation_inches</th>\n",
       "      <th>snowfall_inches</th>\n",
       "      <th>avg_temp</th>\n",
       "      <th>days_with_fog</th>\n",
       "      <th>site_eui</th>\n",
       "    </tr>\n",
       "  </thead>\n",
       "  <tbody>\n",
       "    <tr>\n",
       "      <th>count</th>\n",
       "      <td>75757.000000</td>\n",
       "      <td>7.575700e+04</td>\n",
       "      <td>75757.000000</td>\n",
       "      <td>75757.000000</td>\n",
       "      <td>75757.000000</td>\n",
       "      <td>75757.000000</td>\n",
       "      <td>29961.000000</td>\n",
       "      <td>75757.000000</td>\n",
       "    </tr>\n",
       "    <tr>\n",
       "      <th>mean</th>\n",
       "      <td>37878.000000</td>\n",
       "      <td>1.659839e+05</td>\n",
       "      <td>1951.693111</td>\n",
       "      <td>42.430651</td>\n",
       "      <td>29.136379</td>\n",
       "      <td>56.176705</td>\n",
       "      <td>109.142051</td>\n",
       "      <td>82.584707</td>\n",
       "    </tr>\n",
       "    <tr>\n",
       "      <th>std</th>\n",
       "      <td>21869.306509</td>\n",
       "      <td>2.468758e+05</td>\n",
       "      <td>36.808027</td>\n",
       "      <td>10.592205</td>\n",
       "      <td>17.810894</td>\n",
       "      <td>2.241940</td>\n",
       "      <td>50.699751</td>\n",
       "      <td>58.255413</td>\n",
       "    </tr>\n",
       "    <tr>\n",
       "      <th>min</th>\n",
       "      <td>0.000000</td>\n",
       "      <td>9.430000e+02</td>\n",
       "      <td>0.000000</td>\n",
       "      <td>0.000000</td>\n",
       "      <td>0.000000</td>\n",
       "      <td>44.512329</td>\n",
       "      <td>12.000000</td>\n",
       "      <td>1.000000</td>\n",
       "    </tr>\n",
       "    <tr>\n",
       "      <th>25%</th>\n",
       "      <td>18939.000000</td>\n",
       "      <td>6.237900e+04</td>\n",
       "      <td>1927.000000</td>\n",
       "      <td>39.350000</td>\n",
       "      <td>9.600000</td>\n",
       "      <td>55.147541</td>\n",
       "      <td>88.000000</td>\n",
       "      <td>54.530000</td>\n",
       "    </tr>\n",
       "    <tr>\n",
       "      <th>50%</th>\n",
       "      <td>37878.000000</td>\n",
       "      <td>9.136700e+04</td>\n",
       "      <td>1950.000000</td>\n",
       "      <td>42.170000</td>\n",
       "      <td>31.600000</td>\n",
       "      <td>56.835616</td>\n",
       "      <td>104.000000</td>\n",
       "      <td>75.290000</td>\n",
       "    </tr>\n",
       "    <tr>\n",
       "      <th>75%</th>\n",
       "      <td>56817.000000</td>\n",
       "      <td>1.660000e+05</td>\n",
       "      <td>1976.000000</td>\n",
       "      <td>46.320000</td>\n",
       "      <td>49.100000</td>\n",
       "      <td>57.215847</td>\n",
       "      <td>131.000000</td>\n",
       "      <td>97.280000</td>\n",
       "    </tr>\n",
       "    <tr>\n",
       "      <th>max</th>\n",
       "      <td>75756.000000</td>\n",
       "      <td>6.385382e+06</td>\n",
       "      <td>2015.000000</td>\n",
       "      <td>107.690000</td>\n",
       "      <td>127.300000</td>\n",
       "      <td>77.245205</td>\n",
       "      <td>311.000000</td>\n",
       "      <td>997.870000</td>\n",
       "    </tr>\n",
       "  </tbody>\n",
       "</table>\n",
       "</div>"
      ],
      "text/plain": [
       "                 id    floor_area    year_built  precipitation_inches  \\\n",
       "count  75757.000000  7.575700e+04  75757.000000          75757.000000   \n",
       "mean   37878.000000  1.659839e+05   1951.693111             42.430651   \n",
       "std    21869.306509  2.468758e+05     36.808027             10.592205   \n",
       "min        0.000000  9.430000e+02      0.000000              0.000000   \n",
       "25%    18939.000000  6.237900e+04   1927.000000             39.350000   \n",
       "50%    37878.000000  9.136700e+04   1950.000000             42.170000   \n",
       "75%    56817.000000  1.660000e+05   1976.000000             46.320000   \n",
       "max    75756.000000  6.385382e+06   2015.000000            107.690000   \n",
       "\n",
       "       snowfall_inches      avg_temp  days_with_fog      site_eui  \n",
       "count     75757.000000  75757.000000   29961.000000  75757.000000  \n",
       "mean         29.136379     56.176705     109.142051     82.584707  \n",
       "std          17.810894      2.241940      50.699751     58.255413  \n",
       "min           0.000000     44.512329      12.000000      1.000000  \n",
       "25%           9.600000     55.147541      88.000000     54.530000  \n",
       "50%          31.600000     56.835616     104.000000     75.290000  \n",
       "75%          49.100000     57.215847     131.000000     97.280000  \n",
       "max         127.300000     77.245205     311.000000    997.870000  "
      ]
     },
     "execution_count": 28,
     "metadata": {},
     "output_type": "execute_result"
    }
   ],
   "source": [
    "mode_year_built = df['year_built'].mode()[0]\n",
    "df['year_built'].fillna(mode_year_built, inplace=True)\n",
    "\n",
    "df.describe()"
   ]
  },
  {
   "cell_type": "code",
   "execution_count": 35,
   "id": "630e4997",
   "metadata": {},
   "outputs": [
    {
     "data": {
      "text/html": [
       "<div>\n",
       "<style scoped>\n",
       "    .dataframe tbody tr th:only-of-type {\n",
       "        vertical-align: middle;\n",
       "    }\n",
       "\n",
       "    .dataframe tbody tr th {\n",
       "        vertical-align: top;\n",
       "    }\n",
       "\n",
       "    .dataframe thead th {\n",
       "        text-align: right;\n",
       "    }\n",
       "</style>\n",
       "<table border=\"1\" class=\"dataframe\">\n",
       "  <thead>\n",
       "    <tr style=\"text-align: right;\">\n",
       "      <th></th>\n",
       "      <th>id</th>\n",
       "      <th>floor_area</th>\n",
       "      <th>year_built</th>\n",
       "      <th>precipitation_inches</th>\n",
       "      <th>snowfall_inches</th>\n",
       "      <th>avg_temp</th>\n",
       "      <th>days_with_fog</th>\n",
       "      <th>site_eui</th>\n",
       "    </tr>\n",
       "  </thead>\n",
       "  <tbody>\n",
       "    <tr>\n",
       "      <th>count</th>\n",
       "      <td>75757.000000</td>\n",
       "      <td>7.575700e+04</td>\n",
       "      <td>75757.000000</td>\n",
       "      <td>75757.000000</td>\n",
       "      <td>75757.000000</td>\n",
       "      <td>75757.000000</td>\n",
       "      <td>75757.000000</td>\n",
       "      <td>75757.000000</td>\n",
       "    </tr>\n",
       "    <tr>\n",
       "      <th>mean</th>\n",
       "      <td>37878.000000</td>\n",
       "      <td>1.659839e+05</td>\n",
       "      <td>1951.693111</td>\n",
       "      <td>42.430651</td>\n",
       "      <td>29.136379</td>\n",
       "      <td>56.176705</td>\n",
       "      <td>109.142051</td>\n",
       "      <td>82.584707</td>\n",
       "    </tr>\n",
       "    <tr>\n",
       "      <th>std</th>\n",
       "      <td>21869.306509</td>\n",
       "      <td>2.468758e+05</td>\n",
       "      <td>36.808027</td>\n",
       "      <td>10.592205</td>\n",
       "      <td>17.810894</td>\n",
       "      <td>2.241940</td>\n",
       "      <td>31.883663</td>\n",
       "      <td>58.255413</td>\n",
       "    </tr>\n",
       "    <tr>\n",
       "      <th>min</th>\n",
       "      <td>0.000000</td>\n",
       "      <td>9.430000e+02</td>\n",
       "      <td>0.000000</td>\n",
       "      <td>0.000000</td>\n",
       "      <td>0.000000</td>\n",
       "      <td>44.512329</td>\n",
       "      <td>12.000000</td>\n",
       "      <td>1.000000</td>\n",
       "    </tr>\n",
       "    <tr>\n",
       "      <th>25%</th>\n",
       "      <td>18939.000000</td>\n",
       "      <td>6.237900e+04</td>\n",
       "      <td>1927.000000</td>\n",
       "      <td>39.350000</td>\n",
       "      <td>9.600000</td>\n",
       "      <td>55.147541</td>\n",
       "      <td>109.142051</td>\n",
       "      <td>54.530000</td>\n",
       "    </tr>\n",
       "    <tr>\n",
       "      <th>50%</th>\n",
       "      <td>37878.000000</td>\n",
       "      <td>9.136700e+04</td>\n",
       "      <td>1950.000000</td>\n",
       "      <td>42.170000</td>\n",
       "      <td>31.600000</td>\n",
       "      <td>56.835616</td>\n",
       "      <td>109.142051</td>\n",
       "      <td>75.290000</td>\n",
       "    </tr>\n",
       "    <tr>\n",
       "      <th>75%</th>\n",
       "      <td>56817.000000</td>\n",
       "      <td>1.660000e+05</td>\n",
       "      <td>1976.000000</td>\n",
       "      <td>46.320000</td>\n",
       "      <td>49.100000</td>\n",
       "      <td>57.215847</td>\n",
       "      <td>109.142051</td>\n",
       "      <td>97.280000</td>\n",
       "    </tr>\n",
       "    <tr>\n",
       "      <th>max</th>\n",
       "      <td>75756.000000</td>\n",
       "      <td>6.385382e+06</td>\n",
       "      <td>2015.000000</td>\n",
       "      <td>107.690000</td>\n",
       "      <td>127.300000</td>\n",
       "      <td>77.245205</td>\n",
       "      <td>311.000000</td>\n",
       "      <td>997.870000</td>\n",
       "    </tr>\n",
       "  </tbody>\n",
       "</table>\n",
       "</div>"
      ],
      "text/plain": [
       "                 id    floor_area    year_built  precipitation_inches  \\\n",
       "count  75757.000000  7.575700e+04  75757.000000          75757.000000   \n",
       "mean   37878.000000  1.659839e+05   1951.693111             42.430651   \n",
       "std    21869.306509  2.468758e+05     36.808027             10.592205   \n",
       "min        0.000000  9.430000e+02      0.000000              0.000000   \n",
       "25%    18939.000000  6.237900e+04   1927.000000             39.350000   \n",
       "50%    37878.000000  9.136700e+04   1950.000000             42.170000   \n",
       "75%    56817.000000  1.660000e+05   1976.000000             46.320000   \n",
       "max    75756.000000  6.385382e+06   2015.000000            107.690000   \n",
       "\n",
       "       snowfall_inches      avg_temp  days_with_fog      site_eui  \n",
       "count     75757.000000  75757.000000   75757.000000  75757.000000  \n",
       "mean         29.136379     56.176705     109.142051     82.584707  \n",
       "std          17.810894      2.241940      31.883663     58.255413  \n",
       "min           0.000000     44.512329      12.000000      1.000000  \n",
       "25%           9.600000     55.147541     109.142051     54.530000  \n",
       "50%          31.600000     56.835616     109.142051     75.290000  \n",
       "75%          49.100000     57.215847     109.142051     97.280000  \n",
       "max         127.300000     77.245205     311.000000    997.870000  "
      ]
     },
     "execution_count": 35,
     "metadata": {},
     "output_type": "execute_result"
    }
   ],
   "source": [
    "mean_days_of_fog = df['days_with_fog'].mean()\n",
    "df['days_with_fog'].fillna(mean_days_of_fog, inplace=True)\n",
    "\n",
    "df.describe()"
   ]
  },
  {
   "cell_type": "markdown",
   "id": "8b0102cb",
   "metadata": {},
   "source": [
    "As both variables 'days_with_fog' and 'year_built' have large entries of missing data, with 'year_built', because understand that the data 'year' must be an interger as it is not continous in nature, making mode imputation more suitable compared to other imputation methods, as it'll give us the most common interger year out of the 73,000 plus we already have entried. \n",
    "\n",
    "The variable 'days_with_fog', can possibly be continous in nature as one can suggest half-a-day. Along with that, there are 45796 missing entries out of the 75757 entries. Looking further into the variable, the histogram plot does give insight on the distribution of the data already entried, as the data appears relatively normal with normal dispersion. Using that, it is safe to use mean imputation to deal with the missing datas, compared to other imputations that are less appropriate. \n"
   ]
  },
  {
   "cell_type": "markdown",
   "id": "750855ab",
   "metadata": {},
   "source": [
    "# 6) Duplicate Records"
   ]
  },
  {
   "cell_type": "code",
   "execution_count": 42,
   "id": "1dfef1bd",
   "metadata": {},
   "outputs": [
    {
     "name": "stdout",
     "output_type": "stream",
     "text": [
      "Number of Duplicated Records: 0\n"
     ]
    }
   ],
   "source": [
    "duplicate_records = df.duplicated()\n",
    "duplicates = duplicate_records.sum()\n",
    "\n",
    "print(\"Number of Duplicated Records:\", duplicates)\n",
    "\n"
   ]
  },
  {
   "cell_type": "code",
   "execution_count": 43,
   "id": "af08cb2a",
   "metadata": {},
   "outputs": [
    {
     "name": "stdout",
     "output_type": "stream",
     "text": [
      "0        False\n",
      "1        False\n",
      "2        False\n",
      "3        False\n",
      "4        False\n",
      "         ...  \n",
      "75752    False\n",
      "75753    False\n",
      "75754    False\n",
      "75755    False\n",
      "75756    False\n",
      "Length: 75757, dtype: bool\n"
     ]
    }
   ],
   "source": [
    "duplicate_records = df.duplicated(subset=['id'])\n",
    "print(duplicate_records)"
   ]
  },
  {
   "cell_type": "markdown",
   "id": "9aba35a2",
   "metadata": {},
   "source": [
    "It appears there are 0 duplicates within the dataset, even when running subset to specify the column there are 0 duplicated records, with 0 duplciates there would be no need for eliminating the duplicates. "
   ]
  },
  {
   "cell_type": "markdown",
   "id": "52ccc79e",
   "metadata": {},
   "source": [
    "# 7 & 8) Outlier Detection with Boxplots and Histogram Analysis for Distribution\n"
   ]
  },
  {
   "cell_type": "code",
   "execution_count": 45,
   "id": "ea8a1067",
   "metadata": {},
   "outputs": [
    {
     "data": {
      "image/png": "[encoded data removed]",
      "text/plain": [
       "<Figure size 432x288 with 1 Axes>"
      ]
     },
     "metadata": {
      "needs_background": "light"
     },
     "output_type": "display_data"
    },
    {
     "data": {
      "image/png": "[encoded data removed]",
      "text/plain": [
       "<Figure size 432x288 with 1 Axes>"
      ]
     },
     "metadata": {
      "needs_background": "light"
     },
     "output_type": "display_data"
    },
    {
     "data": {
      "image/png": "[encoded data removed]",
      "text/plain": [
       "<Figure size 432x288 with 1 Axes>"
      ]
     },
     "metadata": {
      "needs_background": "light"
     },
     "output_type": "display_data"
    },
    {
     "data": {
      "image/png": "[encoded data removed]",
      "text/plain": [
       "<Figure size 432x288 with 1 Axes>"
      ]
     },
     "metadata": {
      "needs_background": "light"
     },
     "output_type": "display_data"
    },
    {
     "data": {
      "image/png": "[encoded data removed]",
      "text/plain": [
       "<Figure size 432x288 with 1 Axes>"
      ]
     },
     "metadata": {
      "needs_background": "light"
     },
     "output_type": "display_data"
    },
    {
     "data": {
      "image/png": "[encoded data removed]",
      "text/plain": [
       "<Figure size 432x288 with 1 Axes>"
      ]
     },
     "metadata": {
      "needs_background": "light"
     },
     "output_type": "display_data"
    },
    {
     "data": {
      "image/png": "[encoded data removed]",
      "text/plain": [
       "<Figure size 432x288 with 1 Axes>"
      ]
     },
     "metadata": {
      "needs_background": "light"
     },
     "output_type": "display_data"
    }
   ],
   "source": [
    "for col in numerical_cols:\n",
    "    sns.boxplot(x=df[col])\n",
    "    plt.title(f'Boxplot of {col}')\n",
    "    plt.show()"
   ]
  },
  {
   "cell_type": "code",
   "execution_count": 46,
   "id": "d87cb76e",
   "metadata": {},
   "outputs": [
    {
     "data": {
      "image/png": "[encoded data removed]",
      "text/plain": [
       "<Figure size 432x288 with 1 Axes>"
      ]
     },
     "metadata": {
      "needs_background": "light"
     },
     "output_type": "display_data"
    },
    {
     "data": {
      "image/png": "[encoded data removed]",
      "text/plain": [
       "<Figure size 432x288 with 1 Axes>"
      ]
     },
     "metadata": {
      "needs_background": "light"
     },
     "output_type": "display_data"
    },
    {
     "data": {
      "image/png": "[encoded data removed]",
      "text/plain": [
       "<Figure size 432x288 with 1 Axes>"
      ]
     },
     "metadata": {
      "needs_background": "light"
     },
     "output_type": "display_data"
    },
    {
     "data": {
      "image/png": "[encoded data removed]",
      "text/plain": [
       "<Figure size 432x288 with 1 Axes>"
      ]
     },
     "metadata": {
      "needs_background": "light"
     },
     "output_type": "display_data"
    },
    {
     "data": {
      "image/png": "[encoded data removed]",
      "text/plain": [
       "<Figure size 432x288 with 1 Axes>"
      ]
     },
     "metadata": {
      "needs_background": "light"
     },
     "output_type": "display_data"
    },
    {
     "data": {
      "image/png": "[encoded data removed]",
      "text/plain": [
       "<Figure size 432x288 with 1 Axes>"
      ]
     },
     "metadata": {
      "needs_background": "light"
     },
     "output_type": "display_data"
    },
    {
     "data": {
      "image/png": "[encoded data removed]",
      "text/plain": [
       "<Figure size 432x288 with 1 Axes>"
      ]
     },
     "metadata": {
      "needs_background": "light"
     },
     "output_type": "display_data"
    }
   ],
   "source": [
    "for col in numerical_cols:\n",
    "    sns.histplot(df[col], kde=True)\n",
    "    plt.title(f'Histogram of {col}')\n",
    "    plt.show()"
   ]
  },
  {
   "cell_type": "markdown",
   "id": "1f0e24d0",
   "metadata": {},
   "source": [
    "With our imputated variables that contained missing entries visualized, it can be seen that the distrbitutions for 'year_built' and 'days_with_fog' appears have a tighter central tendency and more uniformed normal distribution as to the one in question 3. Some of the other variables still do appears skewed in some directions, most likely do to scaling, while some have less central tendency. \n",
    "\n",
    "With the boxplots, there are very visible outliers in most as many of them include large entries of possible outliers, but the only one with a visible outlier that can be easily removed from the variable 'snowfall_inches'.\n",
    "\n",
    "Most likely fixing the histograms with scaling would resolve the skewness appearance of the dataset as it'll be in a closer and smaller scale. However, for the boxplots, more has to be considered regarding further imputation of the data to ensure the data fits within the IQR range of the boxplot."
   ]
  },
  {
   "cell_type": "code",
   "execution_count": 47,
   "id": "d23a9ea9",
   "metadata": {},
   "outputs": [],
   "source": [
    "#Dealing with outliers\n",
    "\n",
    "Q1_Snow = df['snowfall_inches'].quantile(0.25)\n",
    "Q3_Snow = df['snowfall_inches'].quantile(0.75)\n",
    "\n",
    "IQR_Snow = Q3_Snow-Q1_Snow\n",
    "\n",
    "lower_bound_Snow = Q1_Snow -1.5 + IQR_Snow\n",
    "upper_bound_Snow = Q3_Snow +1.5 + IQR_Snow\n",
    "\n",
    "df['snowfall_inches']= df['snowfall_inches'].clip(lower = lower_bound_Snow, upper= upper_bound_Snow)"
   ]
  },
  {
   "cell_type": "markdown",
   "id": "b75d5441",
   "metadata": {},
   "source": [
    "# 9) Feature Scaling"
   ]
  },
  {
   "cell_type": "markdown",
   "id": "e75598ed",
   "metadata": {},
   "source": [
    "Using feature scaling will benefit out data as the values of the variables are different in scale, brining the values closer together allowing for better interperability of the data. This would help reduce the impact of the major outliers on the data being analyzed and visualized, as we saw before feature scaling there was a vast amount of skewness and most variables and large entries of outliers in the boxplots associated with the variables.\n"
   ]
  },
  {
   "cell_type": "markdown",
   "id": "46856bc5",
   "metadata": {},
   "source": [
    "# 10) Outlier Detection with Z-score"
   ]
  },
  {
   "cell_type": "code",
   "execution_count": 49,
   "id": "c770fe80",
   "metadata": {},
   "outputs": [
    {
     "name": "stdout",
     "output_type": "stream",
     "text": [
      "Number of outliers in each column:\n",
      "floor_area              1516\n",
      "year_built                47\n",
      "precipitation_inches    2453\n",
      "snowfall_inches          226\n",
      "avg_temp                1858\n",
      "days_with_fog           3316\n",
      "site_eui                1216\n",
      "dtype: int64\n"
     ]
    }
   ],
   "source": [
    "numerical_columns = df.select_dtypes(include=['number']).drop(columns='id', errors='ignore').columns\n",
    "\n",
    "z_scores = (df[numerical_columns] - df[numerical_columns].mean()) / df[numerical_columns].std()\n",
    "threshold = 3 \n",
    "\n",
    "outliers = (z_scores > threshold) | (z_scores < -threshold)\n",
    "\n",
    "num_outliers = outliers.sum()\n",
    "\n",
    "print(\"Number of outliers in each column:\")\n",
    "print(num_outliers)"
   ]
  },
  {
   "cell_type": "markdown",
   "id": "10d3011d",
   "metadata": {},
   "source": [
    "We will leave 'year_built' as it is or will drop the outliers as it is 47 entries of 75757 entries, so removing the outliers won't have affect on the analysis of that variable, and most likely not affect the overall dataset analysis. \n",
    "\n",
    "For majority of the variables that display skewness using power transformation would help the wide-range of skewness the dataset displays as well as utilizing standarizing the feature and min and max scaling that will deal with the outlier and produce a more uniform distribution when outliers are dealt with. "
   ]
  },
  {
   "cell_type": "markdown",
   "id": "d8b259b7",
   "metadata": {},
   "source": [
    "# 11) Range Analysis\n"
   ]
  },
  {
   "cell_type": "code",
   "execution_count": 60,
   "id": "89e0ad55",
   "metadata": {},
   "outputs": [
    {
     "name": "stdout",
     "output_type": "stream",
     "text": [
      "\n",
      "Numerical Column: (min,max)\n",
      "'floor_area': (-0.6685222334615492, 25.192584332428837)\n",
      "\n",
      "Numerical Column: (min,max)\n",
      "'year_built': (-53.02392304137688, 1.7199320931408077)\n",
      "\n",
      "Numerical Column: (min,max)\n",
      "'precipitation_inches': (-4.005863979349938, 6.161113904157708)\n",
      "\n",
      "Numerical Column: (min,max)\n",
      "'snowfall_inches': (-0.39307376172448116, 29.396159883235903)\n",
      "\n",
      "Numerical Column: (min,max)\n",
      "'avg_temp': (-5.202839828754793, 9.397505300522637)\n",
      "\n",
      "Numerical Column: (min,max)\n",
      "'days_with_fog': (-3.046785813778707, 6.331119488974671)\n",
      "\n",
      "Numerical Column: (min,max)\n",
      "'site_eui': (-1.400474937295835, 15.711695951256367)\n"
     ]
    }
   ],
   "source": [
    "for column in numerical_columns:\n",
    "    min_val = df[column].min()\n",
    "    max_val = df[column].max()\n",
    "    print('\\nNumerical Column: (min,max)')\n",
    "    print(f\"'{column}': ({min_val}, {max_val})\")\n",
    "    \n"
   ]
  },
  {
   "cell_type": "markdown",
   "id": "c5783441",
   "metadata": {},
   "source": [
    "The min and max with respect to range per numerical variable, these range informs us on our data processing steps whether we apply normalization, standardization, provide insight on further outliers, and other data methods to better understand the data or what models to use. \n"
   ]
  },
  {
   "cell_type": "markdown",
   "id": "45dfa6d4",
   "metadata": {},
   "source": [
    "# 12) Encoding Catergorical Variables"
   ]
  },
  {
   "cell_type": "code",
   "execution_count": 106,
   "id": "47d3ad69",
   "metadata": {},
   "outputs": [],
   "source": [
    "from sklearn.preprocessing import OneHotEncoder, LabelEncoder\n",
    "\n",
    "df = pd.get_dummies(df, columns=['building_class'],prefix=['building_class'])"
   ]
  },
  {
   "cell_type": "code",
   "execution_count": 108,
   "id": "5c23dec2",
   "metadata": {},
   "outputs": [
    {
     "data": {
      "text/html": [
       "<div>\n",
       "<style scoped>\n",
       "    .dataframe tbody tr th:only-of-type {\n",
       "        vertical-align: middle;\n",
       "    }\n",
       "\n",
       "    .dataframe tbody tr th {\n",
       "        vertical-align: top;\n",
       "    }\n",
       "\n",
       "    .dataframe thead th {\n",
       "        text-align: right;\n",
       "    }\n",
       "</style>\n",
       "<table border=\"1\" class=\"dataframe\">\n",
       "  <thead>\n",
       "    <tr style=\"text-align: right;\">\n",
       "      <th></th>\n",
       "      <th>id</th>\n",
       "      <th>floor_area</th>\n",
       "      <th>year_built</th>\n",
       "      <th>precipitation_inches</th>\n",
       "      <th>snowfall_inches</th>\n",
       "      <th>avg_temp</th>\n",
       "      <th>days_with_fog</th>\n",
       "      <th>site_eui</th>\n",
       "      <th>building_class_Commercial</th>\n",
       "      <th>building_class_Residential</th>\n",
       "    </tr>\n",
       "  </thead>\n",
       "  <tbody>\n",
       "    <tr>\n",
       "      <th>0</th>\n",
       "      <td>0</td>\n",
       "      <td>61242.0</td>\n",
       "      <td>1942.0</td>\n",
       "      <td>16.59</td>\n",
       "      <td>0.0</td>\n",
       "      <td>56.972603</td>\n",
       "      <td>NaN</td>\n",
       "      <td>248.68</td>\n",
       "      <td>1</td>\n",
       "      <td>0</td>\n",
       "    </tr>\n",
       "    <tr>\n",
       "      <th>1</th>\n",
       "      <td>1</td>\n",
       "      <td>274000.0</td>\n",
       "      <td>1955.0</td>\n",
       "      <td>16.59</td>\n",
       "      <td>0.0</td>\n",
       "      <td>56.972603</td>\n",
       "      <td>12.0</td>\n",
       "      <td>26.50</td>\n",
       "      <td>1</td>\n",
       "      <td>0</td>\n",
       "    </tr>\n",
       "    <tr>\n",
       "      <th>2</th>\n",
       "      <td>2</td>\n",
       "      <td>280025.0</td>\n",
       "      <td>1951.0</td>\n",
       "      <td>16.59</td>\n",
       "      <td>0.0</td>\n",
       "      <td>56.972603</td>\n",
       "      <td>12.0</td>\n",
       "      <td>24.69</td>\n",
       "      <td>1</td>\n",
       "      <td>0</td>\n",
       "    </tr>\n",
       "    <tr>\n",
       "      <th>3</th>\n",
       "      <td>3</td>\n",
       "      <td>55325.0</td>\n",
       "      <td>1980.0</td>\n",
       "      <td>16.59</td>\n",
       "      <td>0.0</td>\n",
       "      <td>56.972603</td>\n",
       "      <td>12.0</td>\n",
       "      <td>48.41</td>\n",
       "      <td>1</td>\n",
       "      <td>0</td>\n",
       "    </tr>\n",
       "    <tr>\n",
       "      <th>4</th>\n",
       "      <td>4</td>\n",
       "      <td>66000.0</td>\n",
       "      <td>1985.0</td>\n",
       "      <td>16.59</td>\n",
       "      <td>0.0</td>\n",
       "      <td>56.972603</td>\n",
       "      <td>NaN</td>\n",
       "      <td>3.90</td>\n",
       "      <td>1</td>\n",
       "      <td>0</td>\n",
       "    </tr>\n",
       "    <tr>\n",
       "      <th>5</th>\n",
       "      <td>5</td>\n",
       "      <td>119900.0</td>\n",
       "      <td>1956.0</td>\n",
       "      <td>16.59</td>\n",
       "      <td>0.0</td>\n",
       "      <td>56.972603</td>\n",
       "      <td>NaN</td>\n",
       "      <td>6.60</td>\n",
       "      <td>1</td>\n",
       "      <td>0</td>\n",
       "    </tr>\n",
       "    <tr>\n",
       "      <th>6</th>\n",
       "      <td>6</td>\n",
       "      <td>91367.0</td>\n",
       "      <td>1982.0</td>\n",
       "      <td>16.59</td>\n",
       "      <td>0.0</td>\n",
       "      <td>56.972603</td>\n",
       "      <td>NaN</td>\n",
       "      <td>12.82</td>\n",
       "      <td>1</td>\n",
       "      <td>0</td>\n",
       "    </tr>\n",
       "    <tr>\n",
       "      <th>7</th>\n",
       "      <td>7</td>\n",
       "      <td>50422.0</td>\n",
       "      <td>1947.0</td>\n",
       "      <td>16.59</td>\n",
       "      <td>0.0</td>\n",
       "      <td>56.972603</td>\n",
       "      <td>NaN</td>\n",
       "      <td>22.39</td>\n",
       "      <td>1</td>\n",
       "      <td>0</td>\n",
       "    </tr>\n",
       "    <tr>\n",
       "      <th>8</th>\n",
       "      <td>8</td>\n",
       "      <td>122020.0</td>\n",
       "      <td>1929.0</td>\n",
       "      <td>16.59</td>\n",
       "      <td>0.0</td>\n",
       "      <td>56.972603</td>\n",
       "      <td>NaN</td>\n",
       "      <td>28.20</td>\n",
       "      <td>1</td>\n",
       "      <td>0</td>\n",
       "    </tr>\n",
       "    <tr>\n",
       "      <th>9</th>\n",
       "      <td>9</td>\n",
       "      <td>102612.0</td>\n",
       "      <td>1979.0</td>\n",
       "      <td>16.59</td>\n",
       "      <td>0.0</td>\n",
       "      <td>56.972603</td>\n",
       "      <td>NaN</td>\n",
       "      <td>29.52</td>\n",
       "      <td>1</td>\n",
       "      <td>0</td>\n",
       "    </tr>\n",
       "    <tr>\n",
       "      <th>10</th>\n",
       "      <td>10</td>\n",
       "      <td>65998.0</td>\n",
       "      <td>1979.0</td>\n",
       "      <td>16.59</td>\n",
       "      <td>0.0</td>\n",
       "      <td>56.972603</td>\n",
       "      <td>NaN</td>\n",
       "      <td>31.28</td>\n",
       "      <td>1</td>\n",
       "      <td>0</td>\n",
       "    </tr>\n",
       "    <tr>\n",
       "      <th>11</th>\n",
       "      <td>11</td>\n",
       "      <td>100000.0</td>\n",
       "      <td>1927.0</td>\n",
       "      <td>16.59</td>\n",
       "      <td>0.0</td>\n",
       "      <td>56.972603</td>\n",
       "      <td>NaN</td>\n",
       "      <td>54.90</td>\n",
       "      <td>1</td>\n",
       "      <td>0</td>\n",
       "    </tr>\n",
       "    <tr>\n",
       "      <th>12</th>\n",
       "      <td>12</td>\n",
       "      <td>128320.0</td>\n",
       "      <td>1960.0</td>\n",
       "      <td>16.59</td>\n",
       "      <td>0.0</td>\n",
       "      <td>56.972603</td>\n",
       "      <td>NaN</td>\n",
       "      <td>79.30</td>\n",
       "      <td>1</td>\n",
       "      <td>0</td>\n",
       "    </tr>\n",
       "    <tr>\n",
       "      <th>13</th>\n",
       "      <td>13</td>\n",
       "      <td>616793.0</td>\n",
       "      <td>1955.0</td>\n",
       "      <td>16.59</td>\n",
       "      <td>0.0</td>\n",
       "      <td>56.972603</td>\n",
       "      <td>NaN</td>\n",
       "      <td>608.84</td>\n",
       "      <td>1</td>\n",
       "      <td>0</td>\n",
       "    </tr>\n",
       "    <tr>\n",
       "      <th>14</th>\n",
       "      <td>14</td>\n",
       "      <td>53000.0</td>\n",
       "      <td>1924.0</td>\n",
       "      <td>16.59</td>\n",
       "      <td>0.0</td>\n",
       "      <td>56.972603</td>\n",
       "      <td>NaN</td>\n",
       "      <td>2.70</td>\n",
       "      <td>1</td>\n",
       "      <td>0</td>\n",
       "    </tr>\n",
       "    <tr>\n",
       "      <th>15</th>\n",
       "      <td>15</td>\n",
       "      <td>90045.0</td>\n",
       "      <td>NaN</td>\n",
       "      <td>16.59</td>\n",
       "      <td>0.0</td>\n",
       "      <td>56.972603</td>\n",
       "      <td>12.0</td>\n",
       "      <td>24.60</td>\n",
       "      <td>1</td>\n",
       "      <td>0</td>\n",
       "    </tr>\n",
       "    <tr>\n",
       "      <th>16</th>\n",
       "      <td>16</td>\n",
       "      <td>74055.0</td>\n",
       "      <td>1949.0</td>\n",
       "      <td>16.59</td>\n",
       "      <td>0.0</td>\n",
       "      <td>56.972603</td>\n",
       "      <td>12.0</td>\n",
       "      <td>31.98</td>\n",
       "      <td>1</td>\n",
       "      <td>0</td>\n",
       "    </tr>\n",
       "    <tr>\n",
       "      <th>17</th>\n",
       "      <td>17</td>\n",
       "      <td>128800.0</td>\n",
       "      <td>1926.0</td>\n",
       "      <td>16.59</td>\n",
       "      <td>0.0</td>\n",
       "      <td>56.972603</td>\n",
       "      <td>12.0</td>\n",
       "      <td>33.58</td>\n",
       "      <td>1</td>\n",
       "      <td>0</td>\n",
       "    </tr>\n",
       "    <tr>\n",
       "      <th>18</th>\n",
       "      <td>18</td>\n",
       "      <td>91619.0</td>\n",
       "      <td>1914.0</td>\n",
       "      <td>16.59</td>\n",
       "      <td>0.0</td>\n",
       "      <td>56.972603</td>\n",
       "      <td>12.0</td>\n",
       "      <td>58.98</td>\n",
       "      <td>0</td>\n",
       "      <td>1</td>\n",
       "    </tr>\n",
       "    <tr>\n",
       "      <th>19</th>\n",
       "      <td>19</td>\n",
       "      <td>53280.0</td>\n",
       "      <td>1973.0</td>\n",
       "      <td>16.59</td>\n",
       "      <td>0.0</td>\n",
       "      <td>56.972603</td>\n",
       "      <td>12.0</td>\n",
       "      <td>66.78</td>\n",
       "      <td>1</td>\n",
       "      <td>0</td>\n",
       "    </tr>\n",
       "  </tbody>\n",
       "</table>\n",
       "</div>"
      ],
      "text/plain": [
       "    id  floor_area  year_built  precipitation_inches  snowfall_inches  \\\n",
       "0    0     61242.0      1942.0                 16.59              0.0   \n",
       "1    1    274000.0      1955.0                 16.59              0.0   \n",
       "2    2    280025.0      1951.0                 16.59              0.0   \n",
       "3    3     55325.0      1980.0                 16.59              0.0   \n",
       "4    4     66000.0      1985.0                 16.59              0.0   \n",
       "5    5    119900.0      1956.0                 16.59              0.0   \n",
       "6    6     91367.0      1982.0                 16.59              0.0   \n",
       "7    7     50422.0      1947.0                 16.59              0.0   \n",
       "8    8    122020.0      1929.0                 16.59              0.0   \n",
       "9    9    102612.0      1979.0                 16.59              0.0   \n",
       "10  10     65998.0      1979.0                 16.59              0.0   \n",
       "11  11    100000.0      1927.0                 16.59              0.0   \n",
       "12  12    128320.0      1960.0                 16.59              0.0   \n",
       "13  13    616793.0      1955.0                 16.59              0.0   \n",
       "14  14     53000.0      1924.0                 16.59              0.0   \n",
       "15  15     90045.0         NaN                 16.59              0.0   \n",
       "16  16     74055.0      1949.0                 16.59              0.0   \n",
       "17  17    128800.0      1926.0                 16.59              0.0   \n",
       "18  18     91619.0      1914.0                 16.59              0.0   \n",
       "19  19     53280.0      1973.0                 16.59              0.0   \n",
       "\n",
       "     avg_temp  days_with_fog  site_eui  building_class_Commercial  \\\n",
       "0   56.972603            NaN    248.68                          1   \n",
       "1   56.972603           12.0     26.50                          1   \n",
       "2   56.972603           12.0     24.69                          1   \n",
       "3   56.972603           12.0     48.41                          1   \n",
       "4   56.972603            NaN      3.90                          1   \n",
       "5   56.972603            NaN      6.60                          1   \n",
       "6   56.972603            NaN     12.82                          1   \n",
       "7   56.972603            NaN     22.39                          1   \n",
       "8   56.972603            NaN     28.20                          1   \n",
       "9   56.972603            NaN     29.52                          1   \n",
       "10  56.972603            NaN     31.28                          1   \n",
       "11  56.972603            NaN     54.90                          1   \n",
       "12  56.972603            NaN     79.30                          1   \n",
       "13  56.972603            NaN    608.84                          1   \n",
       "14  56.972603            NaN      2.70                          1   \n",
       "15  56.972603           12.0     24.60                          1   \n",
       "16  56.972603           12.0     31.98                          1   \n",
       "17  56.972603           12.0     33.58                          1   \n",
       "18  56.972603           12.0     58.98                          0   \n",
       "19  56.972603           12.0     66.78                          1   \n",
       "\n",
       "    building_class_Residential  \n",
       "0                            0  \n",
       "1                            0  \n",
       "2                            0  \n",
       "3                            0  \n",
       "4                            0  \n",
       "5                            0  \n",
       "6                            0  \n",
       "7                            0  \n",
       "8                            0  \n",
       "9                            0  \n",
       "10                           0  \n",
       "11                           0  \n",
       "12                           0  \n",
       "13                           0  \n",
       "14                           0  \n",
       "15                           0  \n",
       "16                           0  \n",
       "17                           0  \n",
       "18                           1  \n",
       "19                           0  "
      ]
     },
     "execution_count": 108,
     "metadata": {},
     "output_type": "execute_result"
    }
   ],
   "source": [
    "df.head(20)"
   ]
  },
  {
   "cell_type": "markdown",
   "id": "8ec8f4a7",
   "metadata": {},
   "source": [
    "I used one-hot encoding as it is suitable when the caterogircal variables does not contain rank so we let Python assume it and gives us the order of 1 to Residential and 0 to Commerical. This prevents bias and an simple identifier given that we only have so little identifiers within our categorical variable of our dataset."
   ]
  }
 ],
 "metadata": {
  "kernelspec": {
   "display_name": "Python 3 (ipykernel)",
   "language": "python",
   "name": "python3"
  },
  "language_info": {
   "codemirror_mode": {
    "name": "ipython",
    "version": 3
   },
   "file_extension": ".py",
   "mimetype": "text/x-python",
   "name": "python",
   "nbconvert_exporter": "python",
   "pygments_lexer": "ipython3",
   "version": "3.9.12"
  }
 },
 "nbformat": 4,
 "nbformat_minor": 5
}
